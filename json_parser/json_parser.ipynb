{
 "cells": [
  {
   "cell_type": "code",
   "execution_count": 1,
   "metadata": {},
   "outputs": [],
   "source": [
    "import sys\n",
    "import time as t\n",
    "import psutil\n",
    "import json\n",
    "import ijson\n",
    "import ujson\n",
    "import orjson\n",
    "import numpy as np\n",
    "import matplotlib.pyplot as plt\n",
    "from collections.abc import Iterator\n",
    "import struct"
   ]
  },
  {
   "cell_type": "code",
   "execution_count": 29,
   "metadata": {},
   "outputs": [
    {
     "name": "stdout",
     "output_type": "stream",
     "text": [
      "120\n",
      "<class 'bytes'>\n",
      "65\n",
      "[1.234567, 3.098765, 4.567891, 2.256601]\n",
      "88\n",
      "<class 'list'> <class 'float'>\n"
     ]
    }
   ],
   "source": [
    "array = [1.234567, 3.098765, 4.567891, 2.256601]\n",
    "print(sys.getsizeof(array))\n",
    "pack_data = struct.pack('d' * len(array), *array)\n",
    "print(type(pack_data))\n",
    "print(sys.getsizeof(pack_data))\n",
    "unpack_data = list(struct.unpack('d' * len(array), pack_data))\n",
    "print(unpack_data)\n",
    "print(sys.getsizeof(unpack_data))\n",
    "print(type(unpack_data), type(unpack_data[0]))"
   ]
  },
  {
   "cell_type": "code",
   "execution_count": 6,
   "metadata": {},
   "outputs": [
    {
     "name": "stdout",
     "output_type": "stream",
     "text": [
      "[[131.08108108108107, 57.567567567567565], [137.83783783783784, 50.54054054054054], [144.59459459459458, 45.13513513513513], [149.45945945945945, 39.45945945945946], [148.64864864864865, 32.7027027027027], [143.78378378378378, 32.43243243243243], [137.02702702702703, 37.027027027027025], [129.7297297297297, 45.4054054054054], [125.94594594594594, 50.0], [34.32432432432432, 67.02702702702702], [36.486486486486484, 60.54054054054054], [32.97297297297297, 56.486486486486484], [21.08108108108108, 54.86486486486486], [15.945945945945946, 53.51351351351351], [14.324324324324323, 58.37837837837838], [18.37837837837838, 62.16216216216216], [25.945945945945944, 65.67567567567568], [108.91891891891892, 118.64864864864865], [105.4054054054054, 113.24324324324324], [92.7027027027027, 112.16216216216216], [83.24324324324324, 113.24324324324324], [81.89189189189189, 116.75675675675676], [83.78378378378378, 119.72972972972973], [97.02702702702702, 122.43243243243242], [105.4054054054054, 122.43243243243242], [78.91891891891892, 220.27027027027026], [81.35135135135135, 214.59459459459458], [82.97297297297297, 204.59459459459458], [83.51351351351352, 195.94594594594594], [82.43243243243244, 188.64864864864865], [78.91891891891892, 193.51351351351352], [76.48648648648648, 200.27027027027026], [75.4054054054054, 208.9189189189189], [74.32432432432432, 217.56756756756755], [73.24324324324324, 223.78378378378378], [68.37837837837837, 203.24324324324323], [70.8108108108108, 193.51351351351352], [71.89189189189189, 185.4054054054054], [70.54054054054053, 179.1891891891892], [65.67567567567568, 182.43243243243242], [63.78378378378378, 193.78378378378378], [61.89189189189189, 200.54054054054052], [64.86486486486486, 206.2162162162162]]\n",
      "472\n"
     ]
    }
   ],
   "source": [
    "with open(r\"C:\\Users\\admin\\Desktop\\SSDD_coco\\SSDD_coco\\001160.json\") as f:\n",
    "    ori_data = json.load(f)\n",
    "    matrix = []\n",
    "    for shape in ori_data[\"shapes\"]:\n",
    "        for poi in shape[\"points\"]:\n",
    "            matrix.append(poi)\n",
    "    print(matrix)\n",
    "    print(sys.getsizeof(matrix))"
   ]
  },
  {
   "cell_type": "code",
   "execution_count": 5,
   "metadata": {},
   "outputs": [
    {
     "name": "stdout",
     "output_type": "stream",
     "text": [
      "[[131.08108108  57.56756757]\n",
      " [137.83783784  50.54054054]\n",
      " [144.59459459  45.13513514]\n",
      " [149.45945946  39.45945946]\n",
      " [148.64864865  32.7027027 ]\n",
      " [143.78378378  32.43243243]\n",
      " [137.02702703  37.02702703]\n",
      " [129.72972973  45.40540541]\n",
      " [125.94594595  50.        ]\n",
      " [ 34.32432432  67.02702703]\n",
      " [ 36.48648649  60.54054054]\n",
      " [ 32.97297297  56.48648649]\n",
      " [ 21.08108108  54.86486486]\n",
      " [ 15.94594595  53.51351351]\n",
      " [ 14.32432432  58.37837838]\n",
      " [ 18.37837838  62.16216216]\n",
      " [ 25.94594595  65.67567568]\n",
      " [108.91891892 118.64864865]\n",
      " [105.40540541 113.24324324]\n",
      " [ 92.7027027  112.16216216]\n",
      " [ 83.24324324 113.24324324]\n",
      " [ 81.89189189 116.75675676]\n",
      " [ 83.78378378 119.72972973]\n",
      " [ 97.02702703 122.43243243]\n",
      " [105.40540541 122.43243243]\n",
      " [ 78.91891892 220.27027027]\n",
      " [ 81.35135135 214.59459459]\n",
      " [ 82.97297297 204.59459459]\n",
      " [ 83.51351351 195.94594595]\n",
      " [ 82.43243243 188.64864865]\n",
      " [ 78.91891892 193.51351351]\n",
      " [ 76.48648649 200.27027027]\n",
      " [ 75.40540541 208.91891892]\n",
      " [ 74.32432432 217.56756757]\n",
      " [ 73.24324324 223.78378378]\n",
      " [ 68.37837838 203.24324324]\n",
      " [ 70.81081081 193.51351351]\n",
      " [ 71.89189189 185.40540541]\n",
      " [ 70.54054054 179.18918919]\n",
      " [ 65.67567568 182.43243243]\n",
      " [ 63.78378378 193.78378378]\n",
      " [ 61.89189189 200.54054054]\n",
      " [ 64.86486486 206.21621622]]\n",
      "808\n"
     ]
    }
   ],
   "source": [
    "a = np.array(matrix)\n",
    "print(a)\n",
    "print(sys.getsizeof(a))"
   ]
  },
  {
   "cell_type": "code",
   "execution_count": 10,
   "metadata": {},
   "outputs": [
    {
     "name": "stdout",
     "output_type": "stream",
     "text": [
      "<class 'list'> 9504856\n",
      "<class 'numpy.ndarray'> 120\n",
      "[[254.          79.        ]\n",
      " [253.          80.        ]\n",
      " [252.          80.        ]\n",
      " ...\n",
      " [379.43037975 125.47468354]\n",
      " [381.64556962 126.89873418]\n",
      " [384.01898734 127.84810127]]\n",
      "120\n"
     ]
    }
   ],
   "source": [
    "with open(r\"C:\\Users\\admin\\Desktop\\HRSID_JPG\\HRSID_JPG\\annotations\\test2017.json\") as f1:\n",
    "    ori_data1 = json.load(f1)\n",
    "    matrix1 = []\n",
    "    matrix2 = []\n",
    "    for shape in ori_data1[\"annotations\"]:\n",
    "        matrix2.append(shape[\"bbox\"])\n",
    "        for poi in shape[\"segmentation\"][0]:\n",
    "            matrix1.append(poi)\n",
    "    print(type(matrix1), sys.getsizeof(matrix1))\n",
    "    matrix1 = np.reshape(matrix1,(-1,2))\n",
    "    matrix2 = np.reshape(matrix2,(-1,4))\n",
    "    print('segmentation')\n",
    "    print(type(matrix1), sys.getsizeof(matrix1))\n",
    "    print(matrix1)\n",
    "    print('bbox')\n",
    "    print(sys.getsizeof(matrix2))"
   ]
  },
  {
   "cell_type": "code",
   "execution_count": 2,
   "metadata": {},
   "outputs": [
    {
     "name": "stdout",
     "output_type": "stream",
     "text": [
      "json parser time: 1.678027868270874 ijson parser time: 21.070758819580078 ujson parser time: 1.2057316303253174 orjson parser time: 1.185866117477417\n",
      "length of matrix1: 2994658 length of matrix2: 16951 length of matrix3: 2994658 length of matrix4: 2994658\n"
     ]
    }
   ],
   "source": [
    "t0 = t.time()\n",
    "\n",
    "with open(r\"C:\\Users\\admin\\Desktop\\HRSID_JPG\\HRSID_JPG\\annotations\\train_test2017.json\",\"r\") as f1:\n",
    "    json_data1 = f1.read()\n",
    "    data1 = json.loads(json_data1)\n",
    "    matrix1 = []\n",
    "    for shape in data1[\"annotations\"]:\n",
    "        for poi in shape[\"segmentation\"][0]:\n",
    "            matrix1.append(poi)\n",
    "\n",
    "\n",
    "t1 = t.time()\n",
    "\n",
    "with open(r\"C:\\Users\\admin\\Desktop\\HRSID_JPG\\HRSID_JPG\\annotations\\train_test2017.json\",\"r\") as f2:\n",
    "    matrix2 = list(ijson.items(f2, 'annotations.item.segmentation.item', use_float = True))\n",
    "\n",
    "t2 = t.time()\n",
    "\n",
    "with open(r\"C:\\Users\\admin\\Desktop\\HRSID_JPG\\HRSID_JPG\\annotations\\train_test2017.json\",\"r\") as f3:\n",
    "    json_data3 = f3.read()\n",
    "    data3 = ujson.loads(json_data3)\n",
    "    matrix3 = []\n",
    "    for shape in data3[\"annotations\"]:\n",
    "        for poi in shape[\"segmentation\"][0]:\n",
    "            matrix3.append(poi)\n",
    "\n",
    "t3 = t.time()\n",
    "\n",
    "with open(r\"C:\\Users\\admin\\Desktop\\HRSID_JPG\\HRSID_JPG\\annotations\\train_test2017.json\",\"r\") as f4:\n",
    "    json_data4 = f4.read()\n",
    "    data4 = orjson.loads(json_data4)\n",
    "    matrix4 = []\n",
    "    for shape in data4[\"annotations\"]:\n",
    "        for poi in shape[\"segmentation\"][0]:\n",
    "            matrix4.append(poi)\n",
    "\n",
    "t4 = t.time()\n",
    "\n",
    "print('json parser time:', t1 - t0, 'ijson parser time:', t2 - t1, 'ujson parser time:', t3 - t2, 'orjson parser time:', t4 - t3)\n",
    "print('length of matrix1:', len(matrix1), 'length of matrix2:', len(matrix2), 'length of matrix3:', len(matrix3), 'length of matrix4:', len(matrix4))\n",
    "#print(matrix2[0])"
   ]
  },
  {
   "cell_type": "code",
   "execution_count": 28,
   "metadata": {},
   "outputs": [
    {
     "name": "stdout",
     "output_type": "stream",
     "text": [
      "<class 'float'> length of list: 2994658 , size of float: 24387832\n",
      "<class 'int'> length of list: 2994658 , size of int: 24387832\n",
      "<class 'bytes'> size in bites: 8 , size of bytes: 23957297\n",
      "<class 'list'> size in bites: 8 , size of bytes: 23957320\n",
      "<class 'numpy.ndarray'> length of array: 2994658 , size of float64: 23957368\n",
      "<class 'numpy.ndarray'> length of array: 2994658 , size of float32: 11978736\n",
      "<class 'numpy.ndarray'> length of array: 2994658 , size of int64: 23957368\n",
      "<class 'numpy.ndarray'> length of array: 2994658 , size of int32: 11978736\n"
     ]
    }
   ],
   "source": [
    "with open(r\"C:\\Users\\admin\\Desktop\\HRSID_JPG\\HRSID_JPG\\annotations\\train_test2017.json\") as f1:\n",
    "    ori_data1 = json.load(f1)\n",
    "    matrix1 = []\n",
    "    for shape in ori_data1[\"annotations\"]:\n",
    "        for poi in shape[\"segmentation\"][0]:\n",
    "            matrix1.append(poi)\n",
    "\n",
    "print(type(matrix1[0]), 'length of list:', len(matrix1),', size of float:', sys.getsizeof(matrix1))\n",
    "matrix2 = list(map(int, matrix1))\n",
    "print(type(matrix2[0]), 'length of list:', len(matrix2),', size of int:', sys.getsizeof(matrix2))\n",
    "matrix3 = struct.pack('d' * len(matrix1), *matrix1)\n",
    "print(type(matrix3), 'size in bites:', struct.calcsize('d'),', size of bytes:', sys.getsizeof(matrix3))\n",
    "matrix4 = list(struct.unpack('d' * len(matrix1), matrix3))\n",
    "print(type(matrix4), 'size in bites:', struct.calcsize('d'),', size of bytes:', sys.getsizeof(matrix4))\n",
    "\n",
    "#print(matrix1[-1], matrix4[-1])\n",
    "\n",
    "# print('float:', matrix1[-1], 'int:', matrix2[-1])\n",
    "\n",
    "matrix1 = np.array(matrix1)\n",
    "matrix2 = np.array(matrix1, dtype = np.float32)\n",
    "matrix3 = np.array(matrix1, dtype = np.int64)\n",
    "matrix4 = np.array(matrix1, dtype = np.int32)\n",
    "print(type(matrix1),'length of array:', len(matrix1),', size of float64:', sys.getsizeof(matrix1))\n",
    "print(type(matrix2),'length of array:', len(matrix2),', size of float32:', sys.getsizeof(matrix2))\n",
    "print(type(matrix3),'length of array:', len(matrix3),', size of int64:', sys.getsizeof(matrix3))\n",
    "print(type(matrix4),'length of array:', len(matrix4),', size of int32:', sys.getsizeof(matrix4))\n",
    "\n",
    "#matrix1 = np.reshape(matrix1, (-1,2))\n",
    "#print('np.float64:', matrix1)\n",
    "#matrix2 = np.reshape(matrix2, (-1,2))\n",
    "#print('np.float32:', matrix2)"
   ]
  },
  {
   "cell_type": "code",
   "execution_count": 6,
   "metadata": {},
   "outputs": [
    {
     "name": "stdout",
     "output_type": "stream",
     "text": [
      "1432 1377 1400\n"
     ]
    }
   ],
   "source": [
    "with open(r\"C:\\Users\\admin\\Desktop\\HRSID_JPG\\HRSID_JPG\\annotations\\train_test2017.json\") as f1:\n",
    "    ori_data1 = json.load(f1)\n",
    "    matrix1 = []\n",
    "    for poi in ori_data1[\"annotations\"][0][\"segmentation\"][0]:\n",
    "        matrix1.append(poi)\n",
    "\n",
    "matrix2 = struct.pack('d' * len(matrix1), *matrix1)\n",
    "matrix3 = list(struct.unpack('d' * len(matrix1), matrix2))\n",
    "\n",
    "print(sys.getsizeof(matrix1), sys.getsizeof(matrix2), sys.getsizeof(matrix3))"
   ]
  },
  {
   "cell_type": "code",
   "execution_count": 18,
   "metadata": {},
   "outputs": [
    {
     "name": "stdout",
     "output_type": "stream",
     "text": [
      "14.324324324324323 149.45945945945945 32.43243243243243 223.78378378378378\n",
      "<class 'list'> 43 472\n",
      "<class 'numpy.ndarray'> 43 808\n"
     ]
    },
    {
     "data": {
      "image/png": "[encoded data removed]",
      "text/plain": [
       "<Figure size 432x288 with 1 Axes>"
      ]
     },
     "metadata": {
      "needs_background": "light"
     },
     "output_type": "display_data"
    }
   ],
   "source": [
    "with open(r\"C:\\Users\\admin\\Desktop\\SSDD_coco\\SSDD_coco\\001160.json\") as f:\n",
    "    ori_data = json.load(f)\n",
    "    matrix = []\n",
    "    for shape in ori_data[\"shapes\"]:\n",
    "        for poi in shape[\"points\"]:\n",
    "            matrix.append(poi)\n",
    "            plt.scatter(poi[1], poi[0])\n",
    "    #print(matrix)\n",
    "print(min([row[0] for row in matrix]), max([row[0] for row in matrix]), min([row[1] for row in matrix]), max([row[1] for row in matrix]))\n",
    "\n",
    "print(type(matrix), len(matrix), sys.getsizeof(matrix))\n",
    "a = np.array(matrix)\n",
    "print(type(a), len(matrix), sys.getsizeof(a))\n",
    "#print(a.shape)"
   ]
  }
 ],
 "metadata": {
  "kernelspec": {
   "display_name": "Python 3.9.12 ('base')",
   "language": "python",
   "name": "python3"
  },
  "language_info": {
   "codemirror_mode": {
    "name": "ipython",
    "version": 3
   },
   "file_extension": ".py",
   "mimetype": "text/x-python",
   "name": "python",
   "nbconvert_exporter": "python",
   "pygments_lexer": "ipython3",
   "version": "3.9.12"
  },
  "orig_nbformat": 4,
  "vscode": {
   "interpreter": {
    "hash": "610a6f344c2137faf927ea819c63f6cee33a2c04455044b28099f39fe9722347"
   }
  }
 },
 "nbformat": 4,
 "nbformat_minor": 2
}
